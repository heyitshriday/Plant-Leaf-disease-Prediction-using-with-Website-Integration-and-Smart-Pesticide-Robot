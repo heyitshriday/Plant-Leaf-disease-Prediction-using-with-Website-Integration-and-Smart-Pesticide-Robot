{
 "cells": [
  {
   "cell_type": "code",
   "execution_count": null,
   "id": "c7d336ee-f094-401d-8a8a-d0210126732d",
   "metadata": {},
   "outputs": [],
   "source": [
    "print(\"hello\")"
   ]
  }
 ],
 "metadata": {
  "kernelspec": {
   "display_name": "Python 3 (ipykernel)",
   "language": "python",
   "name": "python3"
  },
  "language_info": {
   "name": ""
  }
 },
 "nbformat": 4,
 "nbformat_minor": 5
}
